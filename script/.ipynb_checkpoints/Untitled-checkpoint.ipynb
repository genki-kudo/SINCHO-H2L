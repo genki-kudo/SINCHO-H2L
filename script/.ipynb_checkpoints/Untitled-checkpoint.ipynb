{
 "cells": [
  {
   "cell_type": "code",
   "execution_count": 18,
   "id": "c77e4294",
   "metadata": {},
   "outputs": [
    {
     "name": "stdout",
     "output_type": "stream",
     "text": [
      "<rdkit.Chem.rdchem.Mol object at 0x7f5ad8a08620>\n"
     ]
    },
    {
     "data": {
      "text/plain": [
       "'\\nwith open(\"vrm.pdb\", \\'r\\')as lig:\\n    for line in lig:\\n        if line[0:6]==\"HETATM\" or line[0:6]==\"ATOM  \":\\n            print(line)\\n'"
      ]
     },
     "execution_count": 18,
     "metadata": {},
     "output_type": "execute_result"
    }
   ],
   "source": [
    "from rdkit import Chem, rdBase\n",
    "from rdkit.Chem import Draw\n",
    "from rdkit.Chem.Draw import rdMolDraw2D\n",
    "from IPython.display import SVG\n",
    "import sys, py3Dmol\n",
    "from rdkit.Chem.Draw import IPythonConsole\n",
    "\n",
    "mol = Chem.MolFromPDBFile(\"vrm.pdb\", proximityBonding=True)\n",
    "print(mol)\n",
    "mol = Chem.MolToSmiles(mol)\n",
    "mol = Chem.AddHs(mol,addCoords=True)\n",
    "\n",
    "Draw.MolToImage(mol[0],\"test.png\")\n",
    "\n",
    "\"\"\"\n",
    "with open(\"vrm.pdb\", 'r')as lig:\n",
    "    for line in lig:\n",
    "        if line[0:6]==\"HETATM\" or line[0:6]==\"ATOM  \":\n",
    "            print(line)\n",
    "\"\"\""
   ]
  },
  {
   "cell_type": "code",
   "execution_count": null,
   "id": "90e3c010",
   "metadata": {},
   "outputs": [],
   "source": []
  }
 ],
 "metadata": {
  "kernelspec": {
   "display_name": "Python 3 (ipykernel)",
   "language": "python",
   "name": "python3"
  },
  "language_info": {
   "codemirror_mode": {
    "name": "ipython",
    "version": 3
   },
   "file_extension": ".py",
   "mimetype": "text/x-python",
   "name": "python",
   "nbconvert_exporter": "python",
   "pygments_lexer": "ipython3",
   "version": "3.7.10"
  }
 },
 "nbformat": 4,
 "nbformat_minor": 5
}
