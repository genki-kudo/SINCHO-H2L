{
 "cells": [
  {
   "cell_type": "code",
   "execution_count": 36,
   "id": "d3ffa8fb",
   "metadata": {},
   "outputs": [
    {
     "name": "stdout",
     "output_type": "stream",
     "text": [
      "[1, 2, 3, 4, 5, 6, 7, 8, 9, 10, 11, 12]\n",
      "['CONECT', '13', '3']\n",
      "[21.407 -7.898 -6.631]\n",
      "[-0.814  0.471  0.425] <class 'numpy.ndarray'>\n",
      "['CONECT', '14', '5']\n",
      "[25.263 -9.974 -8.554]\n",
      "[ 0.84  -0.437 -0.411] <class 'numpy.ndarray'>\n",
      "['CONECT', '15', '6']\n",
      "[ 22.067 -15.259 -10.941]\n",
      "[ 0.541 -0.624 -0.68 ] <class 'numpy.ndarray'>\n",
      "['CONECT', '16', '6']\n",
      "[ 20.609 -14.324 -10.716]\n",
      "[-0.917  0.311 -0.455] <class 'numpy.ndarray'>\n",
      "['CONECT', '17', '6']\n",
      "[ 21.313 -15.183  -9.367]\n",
      "[-0.213 -0.548  0.894] <class 'numpy.ndarray'>\n",
      "['CONECT', '18', '7']\n",
      "[23.607 -6.924 -6.443]\n",
      "[0.12  0.89  0.509] <class 'numpy.ndarray'>\n",
      "['CONECT', '19', '9']\n",
      "[ 21.1   -12.261  -8.527]\n",
      "[-0.884  0.097  0.523] <class 'numpy.ndarray'>\n",
      "['CONECT', '20', '10']\n",
      "[ 21.133 -10.005  -7.837]\n",
      "[-0.929 -0.438 -0.097] <class 'numpy.ndarray'>\n",
      "['CONECT', '21', '11']\n",
      "[ 24.859 -11.576 -10.056]\n",
      "[ 0.873  0.411 -0.196] <class 'numpy.ndarray'>\n",
      "{'C10': array([-0.814,  0.471,  0.425]), 'C13': array([ 0.84 , -0.437, -0.411]), 'C1 ': array([-0.213, -0.548,  0.894]), 'C11': array([0.12 , 0.89 , 0.509]), 'C3 ': array([-0.884,  0.097,  0.523]), 'C9 ': array([-0.929, -0.438, -0.097]), 'N5 ': array([ 0.873,  0.411, -0.196])}\n",
      "[-0.814  0.471  0.425]\n",
      "['3', '5', '6', '7', '9', '10', '11']\n"
     ]
    }
   ],
   "source": [
    "from script.basic_func import t_file\n",
    "from script.basic_func import vec_xyz\n",
    "import numpy as np\n",
    "\n",
    "ligand = \"./vrmh.pdb\"\n",
    "candidates = \"R-candidate.pdb\"\n",
    "\n",
    "t_file(candidates)\n",
    "atomnumber_list = []\n",
    "with open(ligand,'r')as lig1:\n",
    "    for line in lig1:\n",
    "        if (line[0:6]==\"HETATM\" or line[0:6]==\"ATOM  \") and line[76:78]!=' H':\n",
    "            atomnumber_list.append(int(line[7:11]))\n",
    "print(atomnumber_list)\n",
    "candidate =[]\n",
    "atom_hydro_vec ={}\n",
    "with open(ligand,'r')as lig1:\n",
    "    for line in lig1:\n",
    "        if line[0:6]==\"CONECT\" and int(line[7:11]) not in atomnumber_list:\n",
    "            line_split = line.split()\n",
    "            print(line_split)\n",
    "            candidate.append(line_split[2])\n",
    "            hydro_vec = []\n",
    "            ha_vec = []\n",
    "            with open(ligand, 'r')as lig2:\n",
    "                for line2 in lig2:\n",
    "                    if line2[0:6]==\"HETATM\" or line2[0:6]==\"ATOM  \":\n",
    "                        if str(int(line2[7:11]))==str(int(line_split[1])):\n",
    "                            hydro_vec = vec_xyz(line2)\n",
    "                            print(hydro_vec)\n",
    "                        elif str(int(line2[7:11]))==str(int(line_split[2])):\n",
    "                            ha_label = line2[13:16]\n",
    "                            ha_vec = vec_xyz(line2)\n",
    "            extend_vec = hydro_vec - ha_vec\n",
    "            print(extend_vec, type(extend_vec))\n",
    "            atom_hydro_vec[ha_label] = extend_vec\n",
    "print(atom_hydro_vec)\n",
    "print(atom_hydro_vec[\"C10\"])\n",
    "\n",
    "candidate = sorted(set(candidate), key= candidate.index)\n",
    "print(candidate)\n",
    "with open(ligand,'r')as lig1:\n",
    "    for line in lig1:\n",
    "        if (line[0:6]==\"HETATM\" or line[0:6]==\"ATOM  \"):\n",
    "            if str(int(line[7:11])) in candidate:\n",
    "                with open(candidates,'a')as cdd:\n",
    "                    print(line, end='', file=cdd)"
   ]
  },
  {
   "cell_type": "code",
   "execution_count": null,
   "id": "cce0ad8e",
   "metadata": {},
   "outputs": [],
   "source": []
  }
 ],
 "metadata": {
  "kernelspec": {
   "display_name": "Python 3 (ipykernel)",
   "language": "python",
   "name": "python3"
  },
  "language_info": {
   "codemirror_mode": {
    "name": "ipython",
    "version": 3
   },
   "file_extension": ".py",
   "mimetype": "text/x-python",
   "name": "python",
   "nbconvert_exporter": "python",
   "pygments_lexer": "ipython3",
   "version": "3.7.10"
  }
 },
 "nbformat": 4,
 "nbformat_minor": 5
}
